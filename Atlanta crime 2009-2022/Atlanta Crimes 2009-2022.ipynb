{
 "cells": [
  {
   "cell_type": "markdown",
   "id": "1260d102",
   "metadata": {},
   "source": [
    "# Atlanta Crime Report: 2009 - 2022"
   ]
  },
  {
   "cell_type": "markdown",
   "id": "f52ecd12",
   "metadata": {},
   "source": [
    "### Import Libraries"
   ]
  },
  {
   "cell_type": "code",
   "execution_count": 1,
   "id": "9b65ae72",
   "metadata": {},
   "outputs": [],
   "source": [
    "import pandas as pd\n",
    "import altair as alt\n",
    "import os\n",
    "from csv_parser import csv_columnNames_to_rows\n",
    "import datetime"
   ]
  },
  {
   "cell_type": "markdown",
   "id": "d4c262e1",
   "metadata": {},
   "source": [
    "### Specify target folder"
   ]
  },
  {
   "cell_type": "code",
   "execution_count": 2,
   "id": "6a78b769",
   "metadata": {},
   "outputs": [],
   "source": [
    "dirname = 'COBRA-Data'"
   ]
  },
  {
   "cell_type": "markdown",
   "id": "083b8d54",
   "metadata": {},
   "source": [
    "### View column names of each dataFrame\n",
    "Wrote a script to create a dataFrame out of the column names for each CSV file in a given folder.  \n",
    "https://www.linkedin.com/pulse/csv-column-name-parser-brandon-wilson/"
   ]
  },
  {
   "cell_type": "code",
   "execution_count": 3,
   "id": "64102e5f",
   "metadata": {
    "scrolled": false
   },
   "outputs": [
    {
     "name": "stdout",
     "output_type": "stream",
     "text": [
      "Importing: ['COBRA-2009-2019.csv', 'COBRA-2020(NEW RMS 9-30 12-31).csv', 'COBRA-2020-OldRMS-09292020.csv', 'COBRA-2021.csv', 'COBRA-2022.csv'] \n",
      "...\n",
      "loading: COBRA-Data/COBRA-2009-2019.csv\n",
      "loading: COBRA-Data/COBRA-2020(NEW RMS 9-30 12-31).csv\n",
      "loading: COBRA-Data/COBRA-2020-OldRMS-09292020.csv\n",
      "loading: COBRA-Data/COBRA-2021.csv\n",
      "loading: COBRA-Data/COBRA-2022.csv\n",
      "... \n",
      "Success\n"
     ]
    },
    {
     "data": {
      "text/html": [
       "<div>\n",
       "<style scoped>\n",
       "    .dataframe tbody tr th:only-of-type {\n",
       "        vertical-align: middle;\n",
       "    }\n",
       "\n",
       "    .dataframe tbody tr th {\n",
       "        vertical-align: top;\n",
       "    }\n",
       "\n",
       "    .dataframe thead th {\n",
       "        text-align: right;\n",
       "    }\n",
       "</style>\n",
       "<table border=\"1\" class=\"dataframe\">\n",
       "  <thead>\n",
       "    <tr style=\"text-align: right;\">\n",
       "      <th></th>\n",
       "      <th>COBRA-2009-2019.csv</th>\n",
       "      <th>COBRA-2020(NEW RMS 9-30 12-31).csv</th>\n",
       "      <th>COBRA-2020-OldRMS-09292020.csv</th>\n",
       "      <th>COBRA-2021.csv</th>\n",
       "      <th>COBRA-2022.csv</th>\n",
       "    </tr>\n",
       "  </thead>\n",
       "  <tbody>\n",
       "    <tr>\n",
       "      <th>0</th>\n",
       "      <td>Report Number</td>\n",
       "      <td>offense_id</td>\n",
       "      <td>offense_id</td>\n",
       "      <td>offense_id</td>\n",
       "      <td>offense_id</td>\n",
       "    </tr>\n",
       "    <tr>\n",
       "      <th>1</th>\n",
       "      <td>Report Date</td>\n",
       "      <td>rpt_date</td>\n",
       "      <td>rpt_date</td>\n",
       "      <td>rpt_date</td>\n",
       "      <td>rpt_date</td>\n",
       "    </tr>\n",
       "    <tr>\n",
       "      <th>2</th>\n",
       "      <td>Occur Date</td>\n",
       "      <td>occur_date</td>\n",
       "      <td>occur_date</td>\n",
       "      <td>occur_date</td>\n",
       "      <td>occur_date</td>\n",
       "    </tr>\n",
       "    <tr>\n",
       "      <th>3</th>\n",
       "      <td>Occur Time</td>\n",
       "      <td>occur_time</td>\n",
       "      <td>occur_time</td>\n",
       "      <td>occur_day</td>\n",
       "      <td>occur_day</td>\n",
       "    </tr>\n",
       "    <tr>\n",
       "      <th>4</th>\n",
       "      <td>Possible Date</td>\n",
       "      <td>poss_date</td>\n",
       "      <td>poss_date</td>\n",
       "      <td>occur_day_num</td>\n",
       "      <td>occur_day_num</td>\n",
       "    </tr>\n",
       "    <tr>\n",
       "      <th>5</th>\n",
       "      <td>Possible Time</td>\n",
       "      <td>poss_time</td>\n",
       "      <td>poss_time</td>\n",
       "      <td>occur_time</td>\n",
       "      <td>occur_time</td>\n",
       "    </tr>\n",
       "    <tr>\n",
       "      <th>6</th>\n",
       "      <td>Beat</td>\n",
       "      <td>beat</td>\n",
       "      <td>beat</td>\n",
       "      <td>poss_date</td>\n",
       "      <td>poss_date</td>\n",
       "    </tr>\n",
       "    <tr>\n",
       "      <th>7</th>\n",
       "      <td>Apartment Office Prefix</td>\n",
       "      <td>apt_office_prefix</td>\n",
       "      <td>apartment_office_prefix</td>\n",
       "      <td>poss_time</td>\n",
       "      <td>poss_time</td>\n",
       "    </tr>\n",
       "    <tr>\n",
       "      <th>8</th>\n",
       "      <td>Apartment Number</td>\n",
       "      <td>apt_office_num</td>\n",
       "      <td>apartment_number</td>\n",
       "      <td>beat</td>\n",
       "      <td>beat</td>\n",
       "    </tr>\n",
       "    <tr>\n",
       "      <th>9</th>\n",
       "      <td>Location</td>\n",
       "      <td>location</td>\n",
       "      <td>location</td>\n",
       "      <td>zone</td>\n",
       "      <td>zone</td>\n",
       "    </tr>\n",
       "    <tr>\n",
       "      <th>10</th>\n",
       "      <td>Shift Occurence</td>\n",
       "      <td>MinOfucr</td>\n",
       "      <td>watch</td>\n",
       "      <td>location</td>\n",
       "      <td>location</td>\n",
       "    </tr>\n",
       "    <tr>\n",
       "      <th>11</th>\n",
       "      <td>Location Type</td>\n",
       "      <td>dispo_code</td>\n",
       "      <td>location_type</td>\n",
       "      <td>ibr_code</td>\n",
       "      <td>ibr_code</td>\n",
       "    </tr>\n",
       "    <tr>\n",
       "      <th>12</th>\n",
       "      <td>UCR Literal</td>\n",
       "      <td>Shift</td>\n",
       "      <td>UC2_Literal</td>\n",
       "      <td>UC2_Literal</td>\n",
       "      <td>UC2_Literal</td>\n",
       "    </tr>\n",
       "    <tr>\n",
       "      <th>13</th>\n",
       "      <td>UCR #</td>\n",
       "      <td>loc_type</td>\n",
       "      <td>UCR_Number</td>\n",
       "      <td>neighborhood</td>\n",
       "      <td>neighborhood</td>\n",
       "    </tr>\n",
       "    <tr>\n",
       "      <th>14</th>\n",
       "      <td>IBR Code</td>\n",
       "      <td>UC2_Literal</td>\n",
       "      <td>neighborhood</td>\n",
       "      <td>npu</td>\n",
       "      <td>npu</td>\n",
       "    </tr>\n",
       "    <tr>\n",
       "      <th>15</th>\n",
       "      <td>Neighborhood</td>\n",
       "      <td>ibr_code</td>\n",
       "      <td>npu</td>\n",
       "      <td>lat</td>\n",
       "      <td>lat</td>\n",
       "    </tr>\n",
       "    <tr>\n",
       "      <th>16</th>\n",
       "      <td>NPU</td>\n",
       "      <td>neighborhood</td>\n",
       "      <td>lat</td>\n",
       "      <td>long</td>\n",
       "      <td>long</td>\n",
       "    </tr>\n",
       "    <tr>\n",
       "      <th>17</th>\n",
       "      <td>Latitude</td>\n",
       "      <td>npu</td>\n",
       "      <td>long</td>\n",
       "      <td>XXX</td>\n",
       "      <td>XXX</td>\n",
       "    </tr>\n",
       "    <tr>\n",
       "      <th>18</th>\n",
       "      <td>Longitude</td>\n",
       "      <td>long</td>\n",
       "      <td>XXX</td>\n",
       "      <td>XXX</td>\n",
       "      <td>XXX</td>\n",
       "    </tr>\n",
       "    <tr>\n",
       "      <th>19</th>\n",
       "      <td>XXX</td>\n",
       "      <td>lat</td>\n",
       "      <td>XXX</td>\n",
       "      <td>XXX</td>\n",
       "      <td>XXX</td>\n",
       "    </tr>\n",
       "  </tbody>\n",
       "</table>\n",
       "</div>"
      ],
      "text/plain": [
       "        COBRA-2009-2019.csv COBRA-2020(NEW RMS 9-30 12-31).csv  \\\n",
       "0             Report Number                         offense_id   \n",
       "1               Report Date                           rpt_date   \n",
       "2                Occur Date                         occur_date   \n",
       "3                Occur Time                         occur_time   \n",
       "4             Possible Date                          poss_date   \n",
       "5             Possible Time                          poss_time   \n",
       "6                      Beat                               beat   \n",
       "7   Apartment Office Prefix                  apt_office_prefix   \n",
       "8          Apartment Number                     apt_office_num   \n",
       "9                  Location                           location   \n",
       "10          Shift Occurence                           MinOfucr   \n",
       "11            Location Type                         dispo_code   \n",
       "12              UCR Literal                              Shift   \n",
       "13                    UCR #                           loc_type   \n",
       "14                 IBR Code                        UC2_Literal   \n",
       "15             Neighborhood                           ibr_code   \n",
       "16                      NPU                       neighborhood   \n",
       "17                 Latitude                                npu   \n",
       "18                Longitude                               long   \n",
       "19                      XXX                                lat   \n",
       "\n",
       "   COBRA-2020-OldRMS-09292020.csv COBRA-2021.csv COBRA-2022.csv  \n",
       "0                      offense_id     offense_id     offense_id  \n",
       "1                        rpt_date       rpt_date       rpt_date  \n",
       "2                      occur_date     occur_date     occur_date  \n",
       "3                      occur_time      occur_day      occur_day  \n",
       "4                       poss_date  occur_day_num  occur_day_num  \n",
       "5                       poss_time     occur_time     occur_time  \n",
       "6                            beat      poss_date      poss_date  \n",
       "7         apartment_office_prefix      poss_time      poss_time  \n",
       "8                apartment_number           beat           beat  \n",
       "9                        location           zone           zone  \n",
       "10                          watch       location       location  \n",
       "11                  location_type       ibr_code       ibr_code  \n",
       "12                    UC2_Literal    UC2_Literal    UC2_Literal  \n",
       "13                     UCR_Number   neighborhood   neighborhood  \n",
       "14                   neighborhood            npu            npu  \n",
       "15                            npu            lat            lat  \n",
       "16                            lat           long           long  \n",
       "17                           long            XXX            XXX  \n",
       "18                            XXX            XXX            XXX  \n",
       "19                            XXX            XXX            XXX  "
      ]
     },
     "execution_count": 3,
     "metadata": {},
     "output_type": "execute_result"
    }
   ],
   "source": [
    "csv_columnNames_to_rows(dirname)"
   ]
  },
  {
   "cell_type": "markdown",
   "id": "d73ebf84",
   "metadata": {},
   "source": [
    "## Prepare data"
   ]
  },
  {
   "cell_type": "code",
   "execution_count": 4,
   "id": "12aa9e63",
   "metadata": {},
   "outputs": [],
   "source": [
    "dfs = []\n",
    "c = 0\n",
    "for file in os.listdir(dirname):\n",
    "    if c == 0:\n",
    "        dfs.append(pd.read_csv(dirname + '/' + file, low_memory=False, parse_dates=['Occur Date']))\n",
    "    else:\n",
    "        dfs.append(pd.read_csv(dirname + '/' + file, low_memory=False, parse_dates=['occur_date']))\n",
    "    c+=1"
   ]
  },
  {
   "cell_type": "markdown",
   "id": "8bad6db8",
   "metadata": {},
   "source": [
    "### Keep and rename columns for merge"
   ]
  },
  {
   "cell_type": "code",
   "execution_count": 5,
   "id": "60577563",
   "metadata": {
    "scrolled": false
   },
   "outputs": [],
   "source": [
    "keep = ['Report Number', 'Occur Date', 'Occur Time', 'Location', 'UCR Literal', 'Neighborhood', 'Latitude', 'Longitude']\n",
    "\n",
    "dfs[1].rename(columns = {'offense_id':'Report Number', 'rpt_date':'Report Date', 'occur_date':'Occur Date', \n",
    "                         'occur_time':'Occur Time', 'location':'Location', 'UC2_Literal':'UCR Literal', \n",
    "                          'neighborhood':'Neighborhood', 'lat':'Latitude', 'long':'Longitude'}, inplace = True)\n",
    "\n",
    "dfs[2].rename(columns = {'offense_id':'Report Number', 'rpt_date':'Report Date', 'occur_date':'Occur Date', \n",
    "                         'occur_time':'Occur Time', 'location':'Location', 'UC2_Literal':'UCR Literal', \n",
    "                          'neighborhood':'Neighborhood', 'lat':'Latitude', 'long':'Longitude'}, inplace = True)\n",
    "\n",
    "dfs[3].rename(columns = {'offense_id':'Report Number', 'rpt_date':'Report Date', 'occur_date':'Occur Date', \n",
    "                         'occur_time':'Occur Time', 'location':'Location', 'UC2_Literal':'UCR Literal', \n",
    "                          'neighborhood':'Neighborhood', 'lat':'Latitude', 'long':'Longitude'}, inplace = True)\n",
    "\n",
    "dfs[4].rename(columns = {'offense_id':'Report Number', 'rpt_date':'Report Date', 'occur_date':'Occur Date', \n",
    "                         'occur_time':'Occur Time', 'location':'Location', 'UC2_Literal':'UCR Literal', \n",
    "                          'neighborhood':'Neighborhood', 'lat':'Latitude', 'long':'Longitude'}, inplace = True)"
   ]
  },
  {
   "cell_type": "markdown",
   "id": "083421d8",
   "metadata": {},
   "source": [
    "### Drop unwanted columns"
   ]
  },
  {
   "cell_type": "code",
   "execution_count": 6,
   "id": "464f4835",
   "metadata": {},
   "outputs": [],
   "source": [
    "# Passes in a list data frames and a list of column names to keep for each data frame\n",
    "def dfs_dropcols(dfs, keep):\n",
    "    c = 0\n",
    "    for df in dfs:\n",
    "        dfs[c] = df[keep]\n",
    "        c+=1\n",
    "    return dfs\n",
    "dfs = dfs_dropcols(dfs, keep)"
   ]
  },
  {
   "cell_type": "code",
   "execution_count": 7,
   "id": "c1606b18",
   "metadata": {
    "scrolled": false
   },
   "outputs": [
    {
     "name": "stdout",
     "output_type": "stream",
     "text": [
      "df: ['Report Number', 'Occur Date', 'Occur Time', 'Location', 'UCR Literal', 'Neighborhood', 'Latitude', 'Longitude']\n",
      "df: ['Report Number', 'Occur Date', 'Occur Time', 'Location', 'UCR Literal', 'Neighborhood', 'Latitude', 'Longitude']\n",
      "df: ['Report Number', 'Occur Date', 'Occur Time', 'Location', 'UCR Literal', 'Neighborhood', 'Latitude', 'Longitude']\n",
      "df: ['Report Number', 'Occur Date', 'Occur Time', 'Location', 'UCR Literal', 'Neighborhood', 'Latitude', 'Longitude']\n",
      "df: ['Report Number', 'Occur Date', 'Occur Time', 'Location', 'UCR Literal', 'Neighborhood', 'Latitude', 'Longitude']\n"
     ]
    }
   ],
   "source": [
    "# Test drop function\n",
    "for df in dfs:\n",
    "    print('df:', list(df))"
   ]
  },
  {
   "cell_type": "markdown",
   "id": "00a7bf1e",
   "metadata": {},
   "source": [
    "### Fix Date Formatting and Range"
   ]
  },
  {
   "cell_type": "code",
   "execution_count": 8,
   "id": "02c70dd6",
   "metadata": {
    "scrolled": false
   },
   "outputs": [],
   "source": [
    "# Checking date formatting\n",
    "# for df in dfs:\n",
    "#     print(df['Occur Date'].head())"
   ]
  },
  {
   "cell_type": "code",
   "execution_count": 9,
   "id": "6e95b8db",
   "metadata": {
    "scrolled": true
   },
   "outputs": [],
   "source": [
    "dfs[1]['Occur Date'] = pd.to_datetime(dfs[1]['Occur Date'], errors = 'coerce')"
   ]
  },
  {
   "cell_type": "code",
   "execution_count": 10,
   "id": "f8aa9594",
   "metadata": {},
   "outputs": [],
   "source": [
    "# Checking date formatting after adjustment\n",
    "# for df in dfs:\n",
    "#     print(df['Occur Date'].head())"
   ]
  },
  {
   "cell_type": "markdown",
   "id": "f4456109",
   "metadata": {},
   "source": [
    "### Fix Time Formatting"
   ]
  },
  {
   "cell_type": "code",
   "execution_count": 11,
   "id": "305e3d08",
   "metadata": {},
   "outputs": [],
   "source": [
    "# Checking time formatting\n",
    "# for df in dfs:\n",
    "#     print(df['Occur Time'].head())"
   ]
  },
  {
   "cell_type": "code",
   "execution_count": 12,
   "id": "c432f716",
   "metadata": {
    "scrolled": true
   },
   "outputs": [
    {
     "data": {
      "text/plain": [
       "0         1145\n",
       "1         1330\n",
       "2         1500\n",
       "3         1450\n",
       "4         1600\n",
       "          ... \n",
       "342909    2030\n",
       "342910    0432\n",
       "342911    0920\n",
       "342912    1853\n",
       "342913    2045\n",
       "Name: Occur Time, Length: 342914, dtype: object"
      ]
     },
     "execution_count": 12,
     "metadata": {},
     "output_type": "execute_result"
    }
   ],
   "source": [
    "# fix dfs[0]\n",
    "dfs[0]['Occur Time']"
   ]
  },
  {
   "cell_type": "code",
   "execution_count": 13,
   "id": "978f727f",
   "metadata": {
    "scrolled": false
   },
   "outputs": [],
   "source": [
    "lst = []\n",
    "for time in dfs[0]['Occur Time']:\n",
    "    lst.append(time[0:2]+':'+time[2:])"
   ]
  },
  {
   "cell_type": "code",
   "execution_count": 14,
   "id": "f272db0f",
   "metadata": {},
   "outputs": [],
   "source": [
    "dfs[0]['Occur Time'] = lst"
   ]
  },
  {
   "cell_type": "code",
   "execution_count": 15,
   "id": "536deca2",
   "metadata": {
    "scrolled": true
   },
   "outputs": [
    {
     "data": {
      "text/html": [
       "<div>\n",
       "<style scoped>\n",
       "    .dataframe tbody tr th:only-of-type {\n",
       "        vertical-align: middle;\n",
       "    }\n",
       "\n",
       "    .dataframe tbody tr th {\n",
       "        vertical-align: top;\n",
       "    }\n",
       "\n",
       "    .dataframe thead th {\n",
       "        text-align: right;\n",
       "    }\n",
       "</style>\n",
       "<table border=\"1\" class=\"dataframe\">\n",
       "  <thead>\n",
       "    <tr style=\"text-align: right;\">\n",
       "      <th></th>\n",
       "      <th>Report Number</th>\n",
       "      <th>Occur Date</th>\n",
       "      <th>Occur Time</th>\n",
       "      <th>Location</th>\n",
       "      <th>UCR Literal</th>\n",
       "      <th>Neighborhood</th>\n",
       "      <th>Latitude</th>\n",
       "      <th>Longitude</th>\n",
       "    </tr>\n",
       "  </thead>\n",
       "  <tbody>\n",
       "    <tr>\n",
       "      <th>0</th>\n",
       "      <td>90010930</td>\n",
       "      <td>2009-01-01</td>\n",
       "      <td>11:45</td>\n",
       "      <td>2841 GREENBRIAR PKWY</td>\n",
       "      <td>LARCENY-NON VEHICLE</td>\n",
       "      <td>Greenbriar</td>\n",
       "      <td>33.68845</td>\n",
       "      <td>-84.49328</td>\n",
       "    </tr>\n",
       "    <tr>\n",
       "      <th>1</th>\n",
       "      <td>90011083</td>\n",
       "      <td>2009-01-01</td>\n",
       "      <td>13:30</td>\n",
       "      <td>12 BROAD ST SW</td>\n",
       "      <td>LARCENY-NON VEHICLE</td>\n",
       "      <td>Downtown</td>\n",
       "      <td>33.75320</td>\n",
       "      <td>-84.39201</td>\n",
       "    </tr>\n",
       "    <tr>\n",
       "      <th>2</th>\n",
       "      <td>90011208</td>\n",
       "      <td>2009-01-01</td>\n",
       "      <td>15:00</td>\n",
       "      <td>3500 MARTIN L KING JR DR SW</td>\n",
       "      <td>LARCENY-NON VEHICLE</td>\n",
       "      <td>Adamsville</td>\n",
       "      <td>33.75735</td>\n",
       "      <td>-84.50282</td>\n",
       "    </tr>\n",
       "    <tr>\n",
       "      <th>3</th>\n",
       "      <td>90011218</td>\n",
       "      <td>2009-01-01</td>\n",
       "      <td>14:50</td>\n",
       "      <td>3393 PEACHTREE RD NE</td>\n",
       "      <td>LARCENY-NON VEHICLE</td>\n",
       "      <td>Lenox</td>\n",
       "      <td>33.84676</td>\n",
       "      <td>-84.36212</td>\n",
       "    </tr>\n",
       "    <tr>\n",
       "      <th>4</th>\n",
       "      <td>90011289</td>\n",
       "      <td>2009-01-01</td>\n",
       "      <td>16:00</td>\n",
       "      <td>2841 GREENBRIAR PKWY SW</td>\n",
       "      <td>LARCENY-NON VEHICLE</td>\n",
       "      <td>Greenbriar</td>\n",
       "      <td>33.68677</td>\n",
       "      <td>-84.49773</td>\n",
       "    </tr>\n",
       "  </tbody>\n",
       "</table>\n",
       "</div>"
      ],
      "text/plain": [
       "   Report Number Occur Date Occur Time                     Location  \\\n",
       "0       90010930 2009-01-01      11:45         2841 GREENBRIAR PKWY   \n",
       "1       90011083 2009-01-01      13:30               12 BROAD ST SW   \n",
       "2       90011208 2009-01-01      15:00  3500 MARTIN L KING JR DR SW   \n",
       "3       90011218 2009-01-01      14:50         3393 PEACHTREE RD NE   \n",
       "4       90011289 2009-01-01      16:00      2841 GREENBRIAR PKWY SW   \n",
       "\n",
       "           UCR Literal Neighborhood  Latitude  Longitude  \n",
       "0  LARCENY-NON VEHICLE   Greenbriar  33.68845  -84.49328  \n",
       "1  LARCENY-NON VEHICLE     Downtown  33.75320  -84.39201  \n",
       "2  LARCENY-NON VEHICLE   Adamsville  33.75735  -84.50282  \n",
       "3  LARCENY-NON VEHICLE        Lenox  33.84676  -84.36212  \n",
       "4  LARCENY-NON VEHICLE   Greenbriar  33.68677  -84.49773  "
      ]
     },
     "execution_count": 15,
     "metadata": {},
     "output_type": "execute_result"
    }
   ],
   "source": [
    "dfs[0].head()"
   ]
  },
  {
   "cell_type": "markdown",
   "id": "b63e1665",
   "metadata": {},
   "source": [
    "## Union dfs tables"
   ]
  },
  {
   "cell_type": "code",
   "execution_count": 16,
   "id": "1c2a217c",
   "metadata": {},
   "outputs": [
    {
     "name": "stdout",
     "output_type": "stream",
     "text": [
      "342914 rows in dfs[0]\n",
      "7249 rows in dfs[1]\n",
      "14831 rows in dfs[2]\n",
      "21397 rows in dfs[3]\n",
      "14605 rows in dfs[4]\n",
      "...\n",
      "400996 rows in dfs total\n",
      "400813 rows in df_union total\n",
      "...\n",
      "183 duplicates were removed\n"
     ]
    }
   ],
   "source": [
    "df_union = None\n",
    "for df in dfs:\n",
    "    df_union = pd.concat([df_union, df]).drop_duplicates()\n",
    "    \n",
    "# check union \n",
    "summ = 0 \n",
    "c = 0\n",
    "for df in dfs:\n",
    "    print(df.shape[0], f'rows in dfs[{c}]')\n",
    "    summ+=df.shape[0]\n",
    "    c+=1\n",
    "print('...')\n",
    "print(summ, 'rows in dfs total')\n",
    "print(df_union.shape[0], 'rows in df_union total')\n",
    "print('...')\n",
    "print(summ - df_union.shape[0], 'duplicates were removed')"
   ]
  },
  {
   "cell_type": "markdown",
   "id": "fe18083b",
   "metadata": {},
   "source": [
    "### Processing dates "
   ]
  },
  {
   "cell_type": "code",
   "execution_count": 17,
   "id": "09b8a95b",
   "metadata": {
    "scrolled": false
   },
   "outputs": [
    {
     "data": {
      "text/html": [
       "<div>\n",
       "<style scoped>\n",
       "    .dataframe tbody tr th:only-of-type {\n",
       "        vertical-align: middle;\n",
       "    }\n",
       "\n",
       "    .dataframe tbody tr th {\n",
       "        vertical-align: top;\n",
       "    }\n",
       "\n",
       "    .dataframe thead th {\n",
       "        text-align: right;\n",
       "    }\n",
       "</style>\n",
       "<table border=\"1\" class=\"dataframe\">\n",
       "  <thead>\n",
       "    <tr style=\"text-align: right;\">\n",
       "      <th></th>\n",
       "      <th>Report Number</th>\n",
       "      <th>Occur Date</th>\n",
       "      <th>Occur Time</th>\n",
       "      <th>Location</th>\n",
       "      <th>UCR Literal</th>\n",
       "      <th>Neighborhood</th>\n",
       "      <th>Latitude</th>\n",
       "      <th>Longitude</th>\n",
       "    </tr>\n",
       "  </thead>\n",
       "  <tbody>\n",
       "    <tr>\n",
       "      <th>240079</th>\n",
       "      <td>160442700</td>\n",
       "      <td>1916-01-07</td>\n",
       "      <td>12:15</td>\n",
       "      <td>710 JEWEL CT SW</td>\n",
       "      <td>BURGLARY-RESIDENCE</td>\n",
       "      <td>Midwest Cascade</td>\n",
       "      <td>33.725830</td>\n",
       "      <td>-84.550500</td>\n",
       "    </tr>\n",
       "    <tr>\n",
       "      <th>243237</th>\n",
       "      <td>160902737</td>\n",
       "      <td>1916-03-29</td>\n",
       "      <td>23:00</td>\n",
       "      <td>180 WALKER ST SW</td>\n",
       "      <td>AUTO THEFT</td>\n",
       "      <td>Castleberry Hill</td>\n",
       "      <td>33.749640</td>\n",
       "      <td>-84.401320</td>\n",
       "    </tr>\n",
       "    <tr>\n",
       "      <th>243631</th>\n",
       "      <td>160951996</td>\n",
       "      <td>1916-04-02</td>\n",
       "      <td>17:00</td>\n",
       "      <td>2175 PIEDMONT RD NE</td>\n",
       "      <td>BURGLARY-NONRES</td>\n",
       "      <td>Lindridge/Martin Manor</td>\n",
       "      <td>33.817160</td>\n",
       "      <td>-84.366320</td>\n",
       "    </tr>\n",
       "    <tr>\n",
       "      <th>247606</th>\n",
       "      <td>161460989</td>\n",
       "      <td>1916-05-15</td>\n",
       "      <td>20:00</td>\n",
       "      <td>102 W PACES FERRY RD NW</td>\n",
       "      <td>LARCENY-NON VEHICLE</td>\n",
       "      <td>Peachtree Heights West</td>\n",
       "      <td>33.841310</td>\n",
       "      <td>-84.384270</td>\n",
       "    </tr>\n",
       "    <tr>\n",
       "      <th>248620</th>\n",
       "      <td>161592043</td>\n",
       "      <td>1916-05-30</td>\n",
       "      <td>14:00</td>\n",
       "      <td>4666 EDWINA LN SW</td>\n",
       "      <td>LARCENY-NON VEHICLE</td>\n",
       "      <td>Greenbriar Village</td>\n",
       "      <td>33.703090</td>\n",
       "      <td>-84.540440</td>\n",
       "    </tr>\n",
       "    <tr>\n",
       "      <th>...</th>\n",
       "      <td>...</td>\n",
       "      <td>...</td>\n",
       "      <td>...</td>\n",
       "      <td>...</td>\n",
       "      <td>...</td>\n",
       "      <td>...</td>\n",
       "      <td>...</td>\n",
       "      <td>...</td>\n",
       "    </tr>\n",
       "    <tr>\n",
       "      <th>19172</th>\n",
       "      <td>213303737</td>\n",
       "      <td>NaT</td>\n",
       "      <td>NaN</td>\n",
       "      <td>2265 MARIETTA BLVD NW\\nATLANTA, GA 30318\\nUNIT...</td>\n",
       "      <td>AUTO THEFT</td>\n",
       "      <td>NaN</td>\n",
       "      <td>33.818629</td>\n",
       "      <td>-84.449292</td>\n",
       "    </tr>\n",
       "    <tr>\n",
       "      <th>20547</th>\n",
       "      <td>213490677</td>\n",
       "      <td>NaT</td>\n",
       "      <td>NaN</td>\n",
       "      <td>507 BISHOP ST NW\\nATL, GA 30318\\nUNITED STATES</td>\n",
       "      <td>LARCENY-FROM VEHICLE</td>\n",
       "      <td>Loring Heights</td>\n",
       "      <td>33.792566</td>\n",
       "      <td>-84.404601</td>\n",
       "    </tr>\n",
       "    <tr>\n",
       "      <th>9837</th>\n",
       "      <td>221720624</td>\n",
       "      <td>NaT</td>\n",
       "      <td>NaN</td>\n",
       "      <td>1823 JONESBORO RD SE\\nATLANTA, GA 30315\\nUNITE...</td>\n",
       "      <td>LARCENY-NON VEHICLE</td>\n",
       "      <td>Lakewood Heights</td>\n",
       "      <td>33.704411</td>\n",
       "      <td>-84.378159</td>\n",
       "    </tr>\n",
       "    <tr>\n",
       "      <th>12347</th>\n",
       "      <td>222081763</td>\n",
       "      <td>NaT</td>\n",
       "      <td>NaN</td>\n",
       "      <td>1348 BENTEEN WAY SE\\nATL, GA 30315\\nUNITED STATES</td>\n",
       "      <td>LARCENY-NON VEHICLE</td>\n",
       "      <td>Benteen Park</td>\n",
       "      <td>33.718693</td>\n",
       "      <td>-84.366332</td>\n",
       "    </tr>\n",
       "    <tr>\n",
       "      <th>14586</th>\n",
       "      <td>222431947</td>\n",
       "      <td>NaT</td>\n",
       "      <td>NaN</td>\n",
       "      <td>565 HANK AARON DR SW\\nATL, GA 30312\\nUNITED ST...</td>\n",
       "      <td>AGG ASSAULT</td>\n",
       "      <td>Summerhill</td>\n",
       "      <td>33.737698</td>\n",
       "      <td>-84.389983</td>\n",
       "    </tr>\n",
       "  </tbody>\n",
       "</table>\n",
       "<p>400813 rows × 8 columns</p>\n",
       "</div>"
      ],
      "text/plain": [
       "        Report Number Occur Date Occur Time  \\\n",
       "240079      160442700 1916-01-07      12:15   \n",
       "243237      160902737 1916-03-29      23:00   \n",
       "243631      160951996 1916-04-02      17:00   \n",
       "247606      161460989 1916-05-15      20:00   \n",
       "248620      161592043 1916-05-30      14:00   \n",
       "...               ...        ...        ...   \n",
       "19172       213303737        NaT        NaN   \n",
       "20547       213490677        NaT        NaN   \n",
       "9837        221720624        NaT        NaN   \n",
       "12347       222081763        NaT        NaN   \n",
       "14586       222431947        NaT        NaN   \n",
       "\n",
       "                                                 Location  \\\n",
       "240079                                    710 JEWEL CT SW   \n",
       "243237                                   180 WALKER ST SW   \n",
       "243631                                2175 PIEDMONT RD NE   \n",
       "247606                            102 W PACES FERRY RD NW   \n",
       "248620                                  4666 EDWINA LN SW   \n",
       "...                                                   ...   \n",
       "19172   2265 MARIETTA BLVD NW\\nATLANTA, GA 30318\\nUNIT...   \n",
       "20547      507 BISHOP ST NW\\nATL, GA 30318\\nUNITED STATES   \n",
       "9837    1823 JONESBORO RD SE\\nATLANTA, GA 30315\\nUNITE...   \n",
       "12347   1348 BENTEEN WAY SE\\nATL, GA 30315\\nUNITED STATES   \n",
       "14586   565 HANK AARON DR SW\\nATL, GA 30312\\nUNITED ST...   \n",
       "\n",
       "                 UCR Literal            Neighborhood   Latitude  Longitude  \n",
       "240079    BURGLARY-RESIDENCE         Midwest Cascade  33.725830 -84.550500  \n",
       "243237            AUTO THEFT        Castleberry Hill  33.749640 -84.401320  \n",
       "243631       BURGLARY-NONRES  Lindridge/Martin Manor  33.817160 -84.366320  \n",
       "247606   LARCENY-NON VEHICLE  Peachtree Heights West  33.841310 -84.384270  \n",
       "248620   LARCENY-NON VEHICLE      Greenbriar Village  33.703090 -84.540440  \n",
       "...                      ...                     ...        ...        ...  \n",
       "19172             AUTO THEFT                     NaN  33.818629 -84.449292  \n",
       "20547   LARCENY-FROM VEHICLE          Loring Heights  33.792566 -84.404601  \n",
       "9837     LARCENY-NON VEHICLE        Lakewood Heights  33.704411 -84.378159  \n",
       "12347    LARCENY-NON VEHICLE            Benteen Park  33.718693 -84.366332  \n",
       "14586            AGG ASSAULT              Summerhill  33.737698 -84.389983  \n",
       "\n",
       "[400813 rows x 8 columns]"
      ]
     },
     "execution_count": 17,
     "metadata": {},
     "output_type": "execute_result"
    }
   ],
   "source": [
    "df_union.sort_values(by = 'Occur Date', ascending = True, inplace = True)  \n",
    "df_union"
   ]
  },
  {
   "cell_type": "markdown",
   "id": "6edc7db9",
   "metadata": {},
   "source": [
    "__________________________________"
   ]
  },
  {
   "cell_type": "markdown",
   "id": "f7b204a8",
   "metadata": {},
   "source": [
    "# Analysis"
   ]
  },
  {
   "cell_type": "markdown",
   "id": "221c9016",
   "metadata": {},
   "source": [
    "### Time-series analysis\n",
    "This is a time-series analysis of volume."
   ]
  },
  {
   "cell_type": "code",
   "execution_count": 18,
   "id": "d4be24f0",
   "metadata": {},
   "outputs": [
    {
     "data": {
      "text/html": [
       "<div>\n",
       "<style scoped>\n",
       "    .dataframe tbody tr th:only-of-type {\n",
       "        vertical-align: middle;\n",
       "    }\n",
       "\n",
       "    .dataframe tbody tr th {\n",
       "        vertical-align: top;\n",
       "    }\n",
       "\n",
       "    .dataframe thead th {\n",
       "        text-align: right;\n",
       "    }\n",
       "</style>\n",
       "<table border=\"1\" class=\"dataframe\">\n",
       "  <thead>\n",
       "    <tr style=\"text-align: right;\">\n",
       "      <th></th>\n",
       "      <th>Occur Date</th>\n",
       "      <th>Volume</th>\n",
       "      <th>90-day</th>\n",
       "    </tr>\n",
       "  </thead>\n",
       "  <tbody>\n",
       "    <tr>\n",
       "      <th>0</th>\n",
       "      <td>2009-01-01</td>\n",
       "      <td>133</td>\n",
       "      <td>NaN</td>\n",
       "    </tr>\n",
       "    <tr>\n",
       "      <th>1</th>\n",
       "      <td>2009-01-02</td>\n",
       "      <td>144</td>\n",
       "      <td>NaN</td>\n",
       "    </tr>\n",
       "    <tr>\n",
       "      <th>2</th>\n",
       "      <td>2009-01-03</td>\n",
       "      <td>126</td>\n",
       "      <td>NaN</td>\n",
       "    </tr>\n",
       "    <tr>\n",
       "      <th>3</th>\n",
       "      <td>2009-01-04</td>\n",
       "      <td>95</td>\n",
       "      <td>NaN</td>\n",
       "    </tr>\n",
       "    <tr>\n",
       "      <th>4</th>\n",
       "      <td>2009-01-05</td>\n",
       "      <td>126</td>\n",
       "      <td>NaN</td>\n",
       "    </tr>\n",
       "    <tr>\n",
       "      <th>...</th>\n",
       "      <td>...</td>\n",
       "      <td>...</td>\n",
       "      <td>...</td>\n",
       "    </tr>\n",
       "    <tr>\n",
       "      <th>4987</th>\n",
       "      <td>2022-08-28</td>\n",
       "      <td>54</td>\n",
       "      <td>64.311111</td>\n",
       "    </tr>\n",
       "    <tr>\n",
       "      <th>4988</th>\n",
       "      <td>2022-08-29</td>\n",
       "      <td>65</td>\n",
       "      <td>64.322222</td>\n",
       "    </tr>\n",
       "    <tr>\n",
       "      <th>4989</th>\n",
       "      <td>2022-08-30</td>\n",
       "      <td>40</td>\n",
       "      <td>64.000000</td>\n",
       "    </tr>\n",
       "    <tr>\n",
       "      <th>4990</th>\n",
       "      <td>2022-08-31</td>\n",
       "      <td>49</td>\n",
       "      <td>63.722222</td>\n",
       "    </tr>\n",
       "    <tr>\n",
       "      <th>4991</th>\n",
       "      <td>2022-09-01</td>\n",
       "      <td>6</td>\n",
       "      <td>63.011111</td>\n",
       "    </tr>\n",
       "  </tbody>\n",
       "</table>\n",
       "<p>4992 rows × 3 columns</p>\n",
       "</div>"
      ],
      "text/plain": [
       "     Occur Date  Volume     90-day\n",
       "0    2009-01-01     133        NaN\n",
       "1    2009-01-02     144        NaN\n",
       "2    2009-01-03     126        NaN\n",
       "3    2009-01-04      95        NaN\n",
       "4    2009-01-05     126        NaN\n",
       "...         ...     ...        ...\n",
       "4987 2022-08-28      54  64.311111\n",
       "4988 2022-08-29      65  64.322222\n",
       "4989 2022-08-30      40  64.000000\n",
       "4990 2022-08-31      49  63.722222\n",
       "4991 2022-09-01       6  63.011111\n",
       "\n",
       "[4992 rows x 3 columns]"
      ]
     },
     "execution_count": 18,
     "metadata": {},
     "output_type": "execute_result"
    }
   ],
   "source": [
    "# Select columns of interest\n",
    "keep = ['Report Number', 'Occur Date']\n",
    "ts_data = df_union[keep]\n",
    "\n",
    "# Drop rows with NaT and older than 2009\n",
    "ts_data = ts_data.dropna()\n",
    "ts_data = ts_data.drop(ts_data[ts_data['Occur Date'] < '2009-01-01'].index)\n",
    "seasonal_data = ts_data # creating copy of data here to use in another model\n",
    "\n",
    "# Group by date to track volume each day\n",
    "ts_data = ts_data.groupby('Occur Date')['Report Number'].count().reset_index() \n",
    "ts_data.columns = ['Occur Date', 'Volume']\n",
    "\n",
    "# Add a 90-day moving average\n",
    "ts_data['90-day'] = ts_data.rolling(window = 90).mean()\n",
    "\n",
    "ts_data"
   ]
  },
  {
   "cell_type": "code",
   "execution_count": 19,
   "id": "95a837cf",
   "metadata": {},
   "outputs": [],
   "source": [
    "# Build the time-series model\n",
    "\n",
    "a = alt.Chart(ts_data).mark_area().encode(\n",
    "    x = 'Occur Date',\n",
    "    y = 'Volume',\n",
    "    color = alt.value('#7CB9E8')\n",
    ").properties(\n",
    "    width = 800,\n",
    "   height = 300,\n",
    "    title = 'Crime Volume Over Time'\n",
    ").interactive()\n",
    "\n",
    "r = alt.Chart(ts_data).mark_line().encode(\n",
    "    x = 'Occur Date',\n",
    "    y = '90-day',\n",
    "    color = alt.value('#FF0808'),\n",
    "    tooltip = ('Volume')\n",
    ")\n",
    "\n",
    "time = alt.layer(a, r)"
   ]
  },
  {
   "cell_type": "markdown",
   "id": "b3b4e161",
   "metadata": {},
   "source": [
    "### Seasonal Analysis"
   ]
  },
  {
   "cell_type": "code",
   "execution_count": 20,
   "id": "ef72b75c",
   "metadata": {
    "scrolled": false
   },
   "outputs": [
    {
     "data": {
      "text/html": [
       "<div>\n",
       "<style scoped>\n",
       "    .dataframe tbody tr th:only-of-type {\n",
       "        vertical-align: middle;\n",
       "    }\n",
       "\n",
       "    .dataframe tbody tr th {\n",
       "        vertical-align: top;\n",
       "    }\n",
       "\n",
       "    .dataframe thead th {\n",
       "        text-align: right;\n",
       "    }\n",
       "</style>\n",
       "<table border=\"1\" class=\"dataframe\">\n",
       "  <thead>\n",
       "    <tr style=\"text-align: right;\">\n",
       "      <th></th>\n",
       "      <th>Month</th>\n",
       "      <th>Volume</th>\n",
       "    </tr>\n",
       "  </thead>\n",
       "  <tbody>\n",
       "    <tr>\n",
       "      <th>0</th>\n",
       "      <td>Jan</td>\n",
       "      <td>33244</td>\n",
       "    </tr>\n",
       "    <tr>\n",
       "      <th>1</th>\n",
       "      <td>Feb</td>\n",
       "      <td>26939</td>\n",
       "    </tr>\n",
       "    <tr>\n",
       "      <th>2</th>\n",
       "      <td>Mar</td>\n",
       "      <td>29780</td>\n",
       "    </tr>\n",
       "    <tr>\n",
       "      <th>3</th>\n",
       "      <td>Apr</td>\n",
       "      <td>31384</td>\n",
       "    </tr>\n",
       "    <tr>\n",
       "      <th>4</th>\n",
       "      <td>May</td>\n",
       "      <td>35001</td>\n",
       "    </tr>\n",
       "    <tr>\n",
       "      <th>5</th>\n",
       "      <td>Jun</td>\n",
       "      <td>35301</td>\n",
       "    </tr>\n",
       "    <tr>\n",
       "      <th>6</th>\n",
       "      <td>Jul</td>\n",
       "      <td>37203</td>\n",
       "    </tr>\n",
       "    <tr>\n",
       "      <th>7</th>\n",
       "      <td>Aug</td>\n",
       "      <td>36348</td>\n",
       "    </tr>\n",
       "    <tr>\n",
       "      <th>8</th>\n",
       "      <td>Sep</td>\n",
       "      <td>33019</td>\n",
       "    </tr>\n",
       "    <tr>\n",
       "      <th>9</th>\n",
       "      <td>Oct</td>\n",
       "      <td>34325</td>\n",
       "    </tr>\n",
       "    <tr>\n",
       "      <th>10</th>\n",
       "      <td>Nov</td>\n",
       "      <td>32812</td>\n",
       "    </tr>\n",
       "    <tr>\n",
       "      <th>11</th>\n",
       "      <td>Dec</td>\n",
       "      <td>33772</td>\n",
       "    </tr>\n",
       "  </tbody>\n",
       "</table>\n",
       "</div>"
      ],
      "text/plain": [
       "   Month  Volume\n",
       "0    Jan   33244\n",
       "1    Feb   26939\n",
       "2    Mar   29780\n",
       "3    Apr   31384\n",
       "4    May   35001\n",
       "5    Jun   35301\n",
       "6    Jul   37203\n",
       "7    Aug   36348\n",
       "8    Sep   33019\n",
       "9    Oct   34325\n",
       "10   Nov   32812\n",
       "11   Dec   33772"
      ]
     },
     "execution_count": 20,
     "metadata": {},
     "output_type": "execute_result"
    }
   ],
   "source": [
    "#Renaming columns\n",
    "seasonal_data.rename(columns = {'Occur Date':'Month', 'Report Number':'Volume'}, inplace=True)\n",
    "\n",
    "# Group by date to track volume each day\n",
    "seasonal_data = seasonal_data.groupby(seasonal_data['Month'].dt.month)['Volume'].count().reset_index()\n",
    "\n",
    "#Converting into month name (I did this extra step to avoid weird sorting from group by straight into month name)\n",
    "seasonal_data['Month'] = pd.to_datetime(seasonal_data['Month'], format='%m').dt.month_name().str.slice(stop=3)\n",
    "\n",
    "seasonal_data"
   ]
  },
  {
   "cell_type": "code",
   "execution_count": 21,
   "id": "415165e6",
   "metadata": {},
   "outputs": [],
   "source": [
    "seasonal = alt.Chart(seasonal_data).mark_bar().encode(\n",
    "    x = alt.X('Month', sort=list(seasonal_data['Month'])),\n",
    "    y = 'Volume',\n",
    "    tooltip = ('Month', 'Volume'),\n",
    "    color = alt.value('#7CB9E8')\n",
    ").properties(\n",
    "    width = 800,\n",
    "    height = 300,\n",
    "    title = 'Crime Volume by Month'\n",
    ")"
   ]
  },
  {
   "cell_type": "markdown",
   "id": "fff1bbc1",
   "metadata": {},
   "source": [
    "### Heat Map of Date:Time Volume"
   ]
  },
  {
   "cell_type": "code",
   "execution_count": 22,
   "id": "5c22a351",
   "metadata": {
    "scrolled": false
   },
   "outputs": [
    {
     "data": {
      "text/html": [
       "<div>\n",
       "<style scoped>\n",
       "    .dataframe tbody tr th:only-of-type {\n",
       "        vertical-align: middle;\n",
       "    }\n",
       "\n",
       "    .dataframe tbody tr th {\n",
       "        vertical-align: top;\n",
       "    }\n",
       "\n",
       "    .dataframe thead th {\n",
       "        text-align: right;\n",
       "    }\n",
       "</style>\n",
       "<table border=\"1\" class=\"dataframe\">\n",
       "  <thead>\n",
       "    <tr style=\"text-align: right;\">\n",
       "      <th></th>\n",
       "      <th>Month</th>\n",
       "      <th>Hour</th>\n",
       "      <th>Volume</th>\n",
       "    </tr>\n",
       "  </thead>\n",
       "  <tbody>\n",
       "    <tr>\n",
       "      <th>0</th>\n",
       "      <td>Jan</td>\n",
       "      <td>01</td>\n",
       "      <td>1030</td>\n",
       "    </tr>\n",
       "    <tr>\n",
       "      <th>1</th>\n",
       "      <td>Jan</td>\n",
       "      <td>02</td>\n",
       "      <td>797</td>\n",
       "    </tr>\n",
       "    <tr>\n",
       "      <th>2</th>\n",
       "      <td>Jan</td>\n",
       "      <td>03</td>\n",
       "      <td>605</td>\n",
       "    </tr>\n",
       "    <tr>\n",
       "      <th>3</th>\n",
       "      <td>Jan</td>\n",
       "      <td>04</td>\n",
       "      <td>467</td>\n",
       "    </tr>\n",
       "    <tr>\n",
       "      <th>4</th>\n",
       "      <td>Jan</td>\n",
       "      <td>05</td>\n",
       "      <td>427</td>\n",
       "    </tr>\n",
       "    <tr>\n",
       "      <th>...</th>\n",
       "      <td>...</td>\n",
       "      <td>...</td>\n",
       "      <td>...</td>\n",
       "    </tr>\n",
       "    <tr>\n",
       "      <th>283</th>\n",
       "      <td>Dec</td>\n",
       "      <td>20</td>\n",
       "      <td>2110</td>\n",
       "    </tr>\n",
       "    <tr>\n",
       "      <th>284</th>\n",
       "      <td>Dec</td>\n",
       "      <td>21</td>\n",
       "      <td>1845</td>\n",
       "    </tr>\n",
       "    <tr>\n",
       "      <th>285</th>\n",
       "      <td>Dec</td>\n",
       "      <td>22</td>\n",
       "      <td>1758</td>\n",
       "    </tr>\n",
       "    <tr>\n",
       "      <th>286</th>\n",
       "      <td>Dec</td>\n",
       "      <td>23</td>\n",
       "      <td>1537</td>\n",
       "    </tr>\n",
       "    <tr>\n",
       "      <th>287</th>\n",
       "      <td>Dec</td>\n",
       "      <td>24</td>\n",
       "      <td>1598</td>\n",
       "    </tr>\n",
       "  </tbody>\n",
       "</table>\n",
       "<p>288 rows × 3 columns</p>\n",
       "</div>"
      ],
      "text/plain": [
       "    Month Hour  Volume\n",
       "0     Jan   01    1030\n",
       "1     Jan   02     797\n",
       "2     Jan   03     605\n",
       "3     Jan   04     467\n",
       "4     Jan   05     427\n",
       "..    ...  ...     ...\n",
       "283   Dec   20    2110\n",
       "284   Dec   21    1845\n",
       "285   Dec   22    1758\n",
       "286   Dec   23    1537\n",
       "287   Dec   24    1598\n",
       "\n",
       "[288 rows x 3 columns]"
      ]
     },
     "execution_count": 22,
     "metadata": {},
     "output_type": "execute_result"
    }
   ],
   "source": [
    "keep = ['Occur Date', 'Occur Time', 'Report Number']\n",
    "\n",
    "\n",
    "\n",
    "heat_data = df_union[keep] #  copy of data here to use in another model\n",
    "heat_data = heat_data.dropna()\n",
    "heat_data = heat_data.drop(heat_data[heat_data['Occur Date'] < '2009-01-01'].index).reset_index(drop = True)\n",
    "\n",
    "lst = []\n",
    "for m in heat_data['Occur Date']:\n",
    "    lst.append(m.month)\n",
    "heat_data['Occur Date'] = lst\n",
    "\n",
    "lst = []\n",
    "for t in heat_data['Occur Time']:\n",
    "    lst.append(t[0:2])\n",
    "heat_data['Occur Time'] = lst\n",
    "\n",
    "lst = []\n",
    "for n in heat_data['Report Number']:\n",
    "    lst.append(1)\n",
    "heat_data['Report Number'] = lst\n",
    "\n",
    "heat_data.rename(columns = {'Occur Date':'Month', 'Occur Time': 'Hour', 'Report Number':'Volume'}, inplace=True)\n",
    "\n",
    "# Fix Hour formatting\n",
    "lst = []\n",
    "for h in heat_data['Hour']:\n",
    "    if h[1] == ':': \n",
    "        lst.append('0'+h[0])\n",
    "    else:\n",
    "        lst.append(h)\n",
    "heat_data['Hour'] = lst\n",
    "lst = heat_data['Month'] \n",
    "sort = lst.unique()\n",
    "\n",
    "lst = []\n",
    "for h in heat_data['Hour']:\n",
    "    if h == '00':\n",
    "        lst.append('24')\n",
    "    else:\n",
    "        lst.append(h)\n",
    "heat_data['Hour'] = lst\n",
    "\n",
    "# Drop weird Hour\n",
    "heat_data = heat_data[heat_data['Hour']!='0T']\n",
    "\n",
    "\n",
    "# Group by month and hour\n",
    "heat_data = heat_data.groupby(['Month', 'Hour']).count().reset_index()\n",
    "\n",
    "# Converting into month name\n",
    "heat_data['Month'] = pd.to_datetime(heat_data['Month'], format='%m').dt.month_name().str.slice(stop=3)\n",
    "\n",
    "heat_data"
   ]
  },
  {
   "cell_type": "code",
   "execution_count": 23,
   "id": "6eda7ce0",
   "metadata": {},
   "outputs": [],
   "source": [
    "# heat map\n",
    "heat = alt.Chart(heat_data).mark_rect().encode(\n",
    "    x=alt.X('Hour'),\n",
    "    y=alt.Y('Month', sort= sort),\n",
    "    color=alt.Color('Volume'),\n",
    "    tooltip = ('Month', 'Hour', 'Volume')\n",
    ").properties(\n",
    "    width = 500,\n",
    "    height = 500,\n",
    "    title = 'Crime Volume by Hour/Month'\n",
    ")"
   ]
  },
  {
   "cell_type": "markdown",
   "id": "39f0121a",
   "metadata": {},
   "source": [
    "### Neighborhood Analysis"
   ]
  },
  {
   "cell_type": "code",
   "execution_count": 24,
   "id": "ac3691fe",
   "metadata": {},
   "outputs": [],
   "source": [
    "keep = ['Neighborhood', 'Report Number']\n",
    "neighborhood_data = df_union[keep]\n",
    "neighborhood_data = neighborhood_data.dropna()\n",
    "neighborhood_data = neighborhood_data.drop_duplicates()\n",
    "neighborhood_data = neighborhood_data.groupby(by='Neighborhood').count()\n",
    "neighborhood_data = neighborhood_data.rename(columns ={'Report Number':'Volume'})\n",
    "neighborhood_data = neighborhood_data.sort_values(by='Volume', ascending=False).reset_index()\n",
    "neighborhood_data = neighborhood_data.head(20)\n",
    "\n",
    "alt.data_transformers.disable_max_rows()\n",
    "neighborhood = alt.Chart(neighborhood_data).mark_bar().encode(\n",
    "    x = 'Volume',\n",
    "    y = alt.Y('Neighborhood', sort = 'x')\n",
    ").properties(\n",
    "    width = 400,\n",
    "    height = 500,\n",
    "    title = 'Most Dangerous Neighborhoods'\n",
    ")"
   ]
  },
  {
   "cell_type": "markdown",
   "id": "cca04b0d",
   "metadata": {},
   "source": [
    "### Top Offenses "
   ]
  },
  {
   "cell_type": "code",
   "execution_count": 30,
   "id": "6d30df32",
   "metadata": {},
   "outputs": [],
   "source": [
    "topo = df_union['UCR Literal']\n",
    "\n",
    "topo = topo.to_frame()\n",
    "topo['Volume'] = 1\n",
    "topo = topo.groupby(by = 'UCR Literal').sum()\n",
    "topo = topo.sort_values(by='Volume', ascending = False).reset_index()\n",
    "topo = topo.head(12)\n",
    "\n",
    "to = alt.Chart(topo).mark_bar().encode(\n",
    "    x = alt.X('UCR Literal',sort ='-y'),\n",
    "    y = 'Volume',\n",
    ").properties(\n",
    "    title = 'Top 10 Common Offenses',\n",
    "    width = 300,\n",
    "    height = 500\n",
    ")"
   ]
  },
  {
   "cell_type": "markdown",
   "id": "dfe7595b",
   "metadata": {},
   "source": [
    "# Visualizations"
   ]
  },
  {
   "cell_type": "code",
   "execution_count": 51,
   "id": "601ceafd",
   "metadata": {},
   "outputs": [],
   "source": [
    "# pip install altair_viewer\n",
    "import altair as alt"
   ]
  },
  {
   "cell_type": "code",
   "execution_count": 52,
   "id": "5215e96e",
   "metadata": {},
   "outputs": [
    {
     "data": {
      "text/plain": [
       "RendererRegistry.enable('altair_viewer')"
      ]
     },
     "execution_count": 52,
     "metadata": {},
     "output_type": "execute_result"
    }
   ],
   "source": [
    "# alt.renderers.enable('mimetype')\n",
    "# alt.renderers.enable('default')\n",
    "# alt.renderers.enable('html')\n",
    "# alt.renderers.enable('notebook')\n",
    "alt.renderers.enable('altair_viewer')"
   ]
  },
  {
   "cell_type": "code",
   "execution_count": 53,
   "id": "4958758c",
   "metadata": {
    "scrolled": false
   },
   "outputs": [
    {
     "data": {
      "text/html": [
       "Displaying chart at <a href='http://localhost:51662/' target='_blank'>http://localhost:51662/</a>"
      ],
      "text/plain": [
       "Displaying chart at http://localhost:51662/"
      ]
     },
     "execution_count": 53,
     "metadata": {},
     "output_type": "execute_result"
    }
   ],
   "source": [
    "time&seasonal"
   ]
  },
  {
   "cell_type": "code",
   "execution_count": 54,
   "id": "45a80201",
   "metadata": {
    "scrolled": true
   },
   "outputs": [
    {
     "data": {
      "text/html": [
       "Displaying chart at <a href='http://localhost:51662/' target='_blank'>http://localhost:51662/</a>"
      ],
      "text/plain": [
       "Displaying chart at http://localhost:51662/"
      ]
     },
     "execution_count": 54,
     "metadata": {},
     "output_type": "execute_result"
    }
   ],
   "source": [
    "neighborhood|to"
   ]
  },
  {
   "cell_type": "code",
   "execution_count": 55,
   "id": "f4d0917e",
   "metadata": {
    "scrolled": true
   },
   "outputs": [
    {
     "data": {
      "text/html": [
       "Displaying chart at <a href='http://localhost:51662/' target='_blank'>http://localhost:51662/</a>"
      ],
      "text/plain": [
       "Displaying chart at http://localhost:51662/"
      ]
     },
     "execution_count": 55,
     "metadata": {},
     "output_type": "execute_result"
    }
   ],
   "source": [
    "heat "
   ]
  }
 ],
 "metadata": {
  "kernelspec": {
   "display_name": "Python 3 (ipykernel)",
   "language": "python",
   "name": "python3"
  },
  "language_info": {
   "codemirror_mode": {
    "name": "ipython",
    "version": 3
   },
   "file_extension": ".py",
   "mimetype": "text/x-python",
   "name": "python",
   "nbconvert_exporter": "python",
   "pygments_lexer": "ipython3",
   "version": "3.9.7"
  }
 },
 "nbformat": 4,
 "nbformat_minor": 5
}
