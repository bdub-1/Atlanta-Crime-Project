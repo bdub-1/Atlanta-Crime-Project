{
 "cells": [
  {
   "cell_type": "markdown",
   "id": "1260d102",
   "metadata": {},
   "source": [
    "# Atlanta Crime Report: 2009 - 2022"
   ]
  },
  {
   "cell_type": "markdown",
   "id": "f52ecd12",
   "metadata": {},
   "source": [
    "### Import Libraries"
   ]
  },
  {
   "cell_type": "code",
   "execution_count": 1,
   "id": "9b65ae72",
   "metadata": {},
   "outputs": [],
   "source": [
    "import pandas as pd\n",
    "import altair as alt\n",
    "import os\n",
    "from csv_parser import csv_columnNames_to_rows\n",
    "# import numpy as np\n",
    "# import geopandas as gpd"
   ]
  },
  {
   "cell_type": "markdown",
   "id": "d4c262e1",
   "metadata": {},
   "source": [
    "### Specify Directory"
   ]
  },
  {
   "cell_type": "code",
   "execution_count": 2,
   "id": "6a78b769",
   "metadata": {},
   "outputs": [],
   "source": [
    "#Specify Directory\n",
    "dirname = 'COBRA-Data'"
   ]
  },
  {
   "cell_type": "markdown",
   "id": "083b8d54",
   "metadata": {},
   "source": [
    "### View column names of each dataFrame\n",
    "Wrote a script to create a dataFrame out of the column names for each CSV file in a given folder.  \n",
    "https://www.linkedin.com/pulse/csv-column-name-parser-brandon-wilson/"
   ]
  },
  {
   "cell_type": "code",
   "execution_count": 3,
   "id": "64102e5f",
   "metadata": {
    "scrolled": false
   },
   "outputs": [
    {
     "name": "stdout",
     "output_type": "stream",
     "text": [
      "Importing: ['COBRA-2009-2019.csv', 'COBRA-2020(NEW RMS 9-30 12-31).csv', 'COBRA-2020-OldRMS-09292020.csv', 'COBRA-2021.csv', 'COBRA-2022.csv'] \n",
      "...\n",
      "loading: COBRA-Data/COBRA-2009-2019.csv\n",
      "loading: COBRA-Data/COBRA-2020(NEW RMS 9-30 12-31).csv\n",
      "loading: COBRA-Data/COBRA-2020-OldRMS-09292020.csv\n",
      "loading: COBRA-Data/COBRA-2021.csv\n",
      "loading: COBRA-Data/COBRA-2022.csv\n",
      "... \n",
      "Success\n"
     ]
    },
    {
     "data": {
      "text/html": [
       "<div>\n",
       "<style scoped>\n",
       "    .dataframe tbody tr th:only-of-type {\n",
       "        vertical-align: middle;\n",
       "    }\n",
       "\n",
       "    .dataframe tbody tr th {\n",
       "        vertical-align: top;\n",
       "    }\n",
       "\n",
       "    .dataframe thead th {\n",
       "        text-align: right;\n",
       "    }\n",
       "</style>\n",
       "<table border=\"1\" class=\"dataframe\">\n",
       "  <thead>\n",
       "    <tr style=\"text-align: right;\">\n",
       "      <th></th>\n",
       "      <th>COBRA-2009-2019.csv</th>\n",
       "      <th>COBRA-2020(NEW RMS 9-30 12-31).csv</th>\n",
       "      <th>COBRA-2020-OldRMS-09292020.csv</th>\n",
       "      <th>COBRA-2021.csv</th>\n",
       "      <th>COBRA-2022.csv</th>\n",
       "    </tr>\n",
       "  </thead>\n",
       "  <tbody>\n",
       "    <tr>\n",
       "      <th>0</th>\n",
       "      <td>Report Number</td>\n",
       "      <td>offense_id</td>\n",
       "      <td>offense_id</td>\n",
       "      <td>offense_id</td>\n",
       "      <td>offense_id</td>\n",
       "    </tr>\n",
       "    <tr>\n",
       "      <th>1</th>\n",
       "      <td>Report Date</td>\n",
       "      <td>rpt_date</td>\n",
       "      <td>rpt_date</td>\n",
       "      <td>rpt_date</td>\n",
       "      <td>rpt_date</td>\n",
       "    </tr>\n",
       "    <tr>\n",
       "      <th>2</th>\n",
       "      <td>Occur Date</td>\n",
       "      <td>occur_date</td>\n",
       "      <td>occur_date</td>\n",
       "      <td>occur_date</td>\n",
       "      <td>occur_date</td>\n",
       "    </tr>\n",
       "    <tr>\n",
       "      <th>3</th>\n",
       "      <td>Occur Time</td>\n",
       "      <td>occur_time</td>\n",
       "      <td>occur_time</td>\n",
       "      <td>occur_day</td>\n",
       "      <td>occur_day</td>\n",
       "    </tr>\n",
       "    <tr>\n",
       "      <th>4</th>\n",
       "      <td>Possible Date</td>\n",
       "      <td>poss_date</td>\n",
       "      <td>poss_date</td>\n",
       "      <td>occur_day_num</td>\n",
       "      <td>occur_day_num</td>\n",
       "    </tr>\n",
       "    <tr>\n",
       "      <th>5</th>\n",
       "      <td>Possible Time</td>\n",
       "      <td>poss_time</td>\n",
       "      <td>poss_time</td>\n",
       "      <td>occur_time</td>\n",
       "      <td>occur_time</td>\n",
       "    </tr>\n",
       "    <tr>\n",
       "      <th>6</th>\n",
       "      <td>Beat</td>\n",
       "      <td>beat</td>\n",
       "      <td>beat</td>\n",
       "      <td>poss_date</td>\n",
       "      <td>poss_date</td>\n",
       "    </tr>\n",
       "    <tr>\n",
       "      <th>7</th>\n",
       "      <td>Apartment Office Prefix</td>\n",
       "      <td>apt_office_prefix</td>\n",
       "      <td>apartment_office_prefix</td>\n",
       "      <td>poss_time</td>\n",
       "      <td>poss_time</td>\n",
       "    </tr>\n",
       "    <tr>\n",
       "      <th>8</th>\n",
       "      <td>Apartment Number</td>\n",
       "      <td>apt_office_num</td>\n",
       "      <td>apartment_number</td>\n",
       "      <td>beat</td>\n",
       "      <td>beat</td>\n",
       "    </tr>\n",
       "    <tr>\n",
       "      <th>9</th>\n",
       "      <td>Location</td>\n",
       "      <td>location</td>\n",
       "      <td>location</td>\n",
       "      <td>zone</td>\n",
       "      <td>zone</td>\n",
       "    </tr>\n",
       "    <tr>\n",
       "      <th>10</th>\n",
       "      <td>Shift Occurence</td>\n",
       "      <td>MinOfucr</td>\n",
       "      <td>watch</td>\n",
       "      <td>location</td>\n",
       "      <td>location</td>\n",
       "    </tr>\n",
       "    <tr>\n",
       "      <th>11</th>\n",
       "      <td>Location Type</td>\n",
       "      <td>dispo_code</td>\n",
       "      <td>location_type</td>\n",
       "      <td>ibr_code</td>\n",
       "      <td>ibr_code</td>\n",
       "    </tr>\n",
       "    <tr>\n",
       "      <th>12</th>\n",
       "      <td>UCR Literal</td>\n",
       "      <td>Shift</td>\n",
       "      <td>UC2_Literal</td>\n",
       "      <td>UC2_Literal</td>\n",
       "      <td>UC2_Literal</td>\n",
       "    </tr>\n",
       "    <tr>\n",
       "      <th>13</th>\n",
       "      <td>UCR #</td>\n",
       "      <td>loc_type</td>\n",
       "      <td>UCR_Number</td>\n",
       "      <td>neighborhood</td>\n",
       "      <td>neighborhood</td>\n",
       "    </tr>\n",
       "    <tr>\n",
       "      <th>14</th>\n",
       "      <td>IBR Code</td>\n",
       "      <td>UC2_Literal</td>\n",
       "      <td>neighborhood</td>\n",
       "      <td>npu</td>\n",
       "      <td>npu</td>\n",
       "    </tr>\n",
       "    <tr>\n",
       "      <th>15</th>\n",
       "      <td>Neighborhood</td>\n",
       "      <td>ibr_code</td>\n",
       "      <td>npu</td>\n",
       "      <td>lat</td>\n",
       "      <td>lat</td>\n",
       "    </tr>\n",
       "    <tr>\n",
       "      <th>16</th>\n",
       "      <td>NPU</td>\n",
       "      <td>neighborhood</td>\n",
       "      <td>lat</td>\n",
       "      <td>long</td>\n",
       "      <td>long</td>\n",
       "    </tr>\n",
       "    <tr>\n",
       "      <th>17</th>\n",
       "      <td>Latitude</td>\n",
       "      <td>npu</td>\n",
       "      <td>long</td>\n",
       "      <td>XXX</td>\n",
       "      <td>XXX</td>\n",
       "    </tr>\n",
       "    <tr>\n",
       "      <th>18</th>\n",
       "      <td>Longitude</td>\n",
       "      <td>long</td>\n",
       "      <td>XXX</td>\n",
       "      <td>XXX</td>\n",
       "      <td>XXX</td>\n",
       "    </tr>\n",
       "    <tr>\n",
       "      <th>19</th>\n",
       "      <td>XXX</td>\n",
       "      <td>lat</td>\n",
       "      <td>XXX</td>\n",
       "      <td>XXX</td>\n",
       "      <td>XXX</td>\n",
       "    </tr>\n",
       "  </tbody>\n",
       "</table>\n",
       "</div>"
      ],
      "text/plain": [
       "        COBRA-2009-2019.csv COBRA-2020(NEW RMS 9-30 12-31).csv  \\\n",
       "0             Report Number                         offense_id   \n",
       "1               Report Date                           rpt_date   \n",
       "2                Occur Date                         occur_date   \n",
       "3                Occur Time                         occur_time   \n",
       "4             Possible Date                          poss_date   \n",
       "5             Possible Time                          poss_time   \n",
       "6                      Beat                               beat   \n",
       "7   Apartment Office Prefix                  apt_office_prefix   \n",
       "8          Apartment Number                     apt_office_num   \n",
       "9                  Location                           location   \n",
       "10          Shift Occurence                           MinOfucr   \n",
       "11            Location Type                         dispo_code   \n",
       "12              UCR Literal                              Shift   \n",
       "13                    UCR #                           loc_type   \n",
       "14                 IBR Code                        UC2_Literal   \n",
       "15             Neighborhood                           ibr_code   \n",
       "16                      NPU                       neighborhood   \n",
       "17                 Latitude                                npu   \n",
       "18                Longitude                               long   \n",
       "19                      XXX                                lat   \n",
       "\n",
       "   COBRA-2020-OldRMS-09292020.csv COBRA-2021.csv COBRA-2022.csv  \n",
       "0                      offense_id     offense_id     offense_id  \n",
       "1                        rpt_date       rpt_date       rpt_date  \n",
       "2                      occur_date     occur_date     occur_date  \n",
       "3                      occur_time      occur_day      occur_day  \n",
       "4                       poss_date  occur_day_num  occur_day_num  \n",
       "5                       poss_time     occur_time     occur_time  \n",
       "6                            beat      poss_date      poss_date  \n",
       "7         apartment_office_prefix      poss_time      poss_time  \n",
       "8                apartment_number           beat           beat  \n",
       "9                        location           zone           zone  \n",
       "10                          watch       location       location  \n",
       "11                  location_type       ibr_code       ibr_code  \n",
       "12                    UC2_Literal    UC2_Literal    UC2_Literal  \n",
       "13                     UCR_Number   neighborhood   neighborhood  \n",
       "14                   neighborhood            npu            npu  \n",
       "15                            npu            lat            lat  \n",
       "16                            lat           long           long  \n",
       "17                           long            XXX            XXX  \n",
       "18                            XXX            XXX            XXX  \n",
       "19                            XXX            XXX            XXX  "
      ]
     },
     "execution_count": 3,
     "metadata": {},
     "output_type": "execute_result"
    }
   ],
   "source": [
    "csv_columnNames_to_rows(dirname)"
   ]
  },
  {
   "cell_type": "markdown",
   "id": "d73ebf84",
   "metadata": {},
   "source": [
    "## Prepare data\n",
    "I am preparing two seperate tables.  An aggregate table of 2009-2022 and a small table with specialty data from 2021-2022.  \n",
    "I also am ensuring type is set to date as necessary."
   ]
  },
  {
   "cell_type": "code",
   "execution_count": 4,
   "id": "12aa9e63",
   "metadata": {},
   "outputs": [],
   "source": [
    "dfs = []\n",
    "c = 0\n",
    "for file in os.listdir(dirname):\n",
    "    if c == 0:\n",
    "        dfs.append(pd.read_csv(dirname + '/' + file, low_memory=False, parse_dates=['Occur Date']))\n",
    "    else:\n",
    "        dfs.append(pd.read_csv(dirname + '/' + file, low_memory=False, parse_dates=['occur_date']))\n",
    "    c+=1\n",
    "            \n",
    "zone_data = dfs[3:]"
   ]
  },
  {
   "cell_type": "markdown",
   "id": "8bad6db8",
   "metadata": {},
   "source": [
    "### Keep and rename columns for merge"
   ]
  },
  {
   "cell_type": "code",
   "execution_count": 5,
   "id": "60577563",
   "metadata": {
    "scrolled": false
   },
   "outputs": [],
   "source": [
    "keep = ['Report Number', 'Occur Date', 'Occur Time', 'Location', 'UCR Literal', 'Neighborhood', 'Latitude', 'Longitude']\n",
    "\n",
    "dfs[1].rename(columns = {'offense_id':'Report Number', 'rpt_date':'Report Date', 'occur_date':'Occur Date', \n",
    "                         'occur_time':'Occur Time', 'location':'Location', 'UC2_Literal':'UCR Literal', \n",
    "                          'neighborhood':'Neighborhood', 'lat':'Latitude', 'long':'Longitude'}, inplace = True)\n",
    "\n",
    "dfs[2].rename(columns = {'offense_id':'Report Number', 'rpt_date':'Report Date', 'occur_date':'Occur Date', \n",
    "                         'occur_time':'Occur Time', 'location':'Location', 'UC2_Literal':'UCR Literal', \n",
    "                          'neighborhood':'Neighborhood', 'lat':'Latitude', 'long':'Longitude'}, inplace = True)\n",
    "\n",
    "dfs[3].rename(columns = {'offense_id':'Report Number', 'rpt_date':'Report Date', 'occur_date':'Occur Date', \n",
    "                         'occur_time':'Occur Time', 'location':'Location', 'UC2_Literal':'UCR Literal', \n",
    "                          'neighborhood':'Neighborhood', 'lat':'Latitude', 'long':'Longitude'}, inplace = True)\n",
    "\n",
    "dfs[4].rename(columns = {'offense_id':'Report Number', 'rpt_date':'Report Date', 'occur_date':'Occur Date', \n",
    "                         'occur_time':'Occur Time', 'location':'Location', 'UC2_Literal':'UCR Literal', \n",
    "                          'neighborhood':'Neighborhood', 'lat':'Latitude', 'long':'Longitude'}, inplace = True)\n",
    "\n",
    "zone_keep = ['Report Number', 'zone']\n",
    "zone_data[0].rename(columns = {'offense_id':'Report Number'}, inplace = True)\n",
    "zone_data[1].rename(columns = {'offense_id':'Report Number'}, inplace = True)"
   ]
  },
  {
   "cell_type": "markdown",
   "id": "083421d8",
   "metadata": {},
   "source": [
    "### Drop unwanted columns"
   ]
  },
  {
   "cell_type": "code",
   "execution_count": 6,
   "id": "464f4835",
   "metadata": {},
   "outputs": [],
   "source": [
    "# Passes in a list data frames and a list of column names to keep for each data frame\n",
    "def dfs_dropcols(dfs, keep):\n",
    "    c = 0\n",
    "    for df in dfs:\n",
    "        dfs[c] = df[keep]\n",
    "        c+=1\n",
    "    return dfs"
   ]
  },
  {
   "cell_type": "code",
   "execution_count": 7,
   "id": "e8ab2704",
   "metadata": {
    "scrolled": false
   },
   "outputs": [],
   "source": [
    "dfs = dfs_dropcols(dfs, keep)\n",
    "zone_data = dfs_dropcols(zone_data, zone_keep)"
   ]
  },
  {
   "cell_type": "code",
   "execution_count": 8,
   "id": "c1606b18",
   "metadata": {
    "scrolled": false
   },
   "outputs": [
    {
     "name": "stdout",
     "output_type": "stream",
     "text": [
      "df: ['Report Number', 'Occur Date', 'Occur Time', 'Location', 'UCR Literal', 'Neighborhood', 'Latitude', 'Longitude']\n",
      "df: ['Report Number', 'Occur Date', 'Occur Time', 'Location', 'UCR Literal', 'Neighborhood', 'Latitude', 'Longitude']\n",
      "df: ['Report Number', 'Occur Date', 'Occur Time', 'Location', 'UCR Literal', 'Neighborhood', 'Latitude', 'Longitude']\n",
      "df: ['Report Number', 'Occur Date', 'Occur Time', 'Location', 'UCR Literal', 'Neighborhood', 'Latitude', 'Longitude']\n",
      "df: ['Report Number', 'Occur Date', 'Occur Time', 'Location', 'UCR Literal', 'Neighborhood', 'Latitude', 'Longitude']\n",
      "zone_data: ['Report Number', 'zone']\n",
      "zone_data: ['Report Number', 'zone']\n"
     ]
    }
   ],
   "source": [
    "# Test drop function\n",
    "for df in dfs:\n",
    "    print('df:', list(df))\n",
    "for df in zone_data:\n",
    "    print('zone_data:', list(df))"
   ]
  },
  {
   "cell_type": "markdown",
   "id": "00a7bf1e",
   "metadata": {},
   "source": [
    "### Fix Date Formatting and Range"
   ]
  },
  {
   "cell_type": "code",
   "execution_count": 9,
   "id": "02c70dd6",
   "metadata": {
    "scrolled": false
   },
   "outputs": [
    {
     "name": "stdout",
     "output_type": "stream",
     "text": [
      "0   2009-01-01\n",
      "1   2009-01-01\n",
      "2   2009-01-01\n",
      "3   2009-01-01\n",
      "4   2009-01-01\n",
      "Name: Occur Date, dtype: datetime64[ns]\n",
      "0    11/29/2020\n",
      "1    12/28/2020\n",
      "2    12/24/2020\n",
      "3    12/30/2020\n",
      "4    12/31/2020\n",
      "Name: Occur Date, dtype: object\n",
      "0   2020-01-02\n",
      "1   2020-01-06\n",
      "2   2020-01-09\n",
      "3   2020-01-15\n",
      "4   2020-01-18\n",
      "Name: Occur Date, dtype: datetime64[ns]\n",
      "0   2021-05-19\n",
      "1   2021-06-27\n",
      "2   2021-01-04\n",
      "3   2021-09-18\n",
      "4   2020-10-03\n",
      "Name: Occur Date, dtype: datetime64[ns]\n",
      "0   2022-07-20\n",
      "1   2020-10-06\n",
      "2   2020-11-09\n",
      "3   2020-11-14\n",
      "4   2020-11-20\n",
      "Name: Occur Date, dtype: datetime64[ns]\n"
     ]
    }
   ],
   "source": [
    "# Checking date formatting\n",
    "for df in dfs:\n",
    "    print(df['Occur Date'].head())\n",
    "    "
   ]
  },
  {
   "cell_type": "markdown",
   "id": "b63e1665",
   "metadata": {},
   "source": [
    "## Union dfs tables"
   ]
  },
  {
   "cell_type": "code",
   "execution_count": 10,
   "id": "1c2a217c",
   "metadata": {},
   "outputs": [
    {
     "name": "stdout",
     "output_type": "stream",
     "text": [
      "342914 rows in dfs[0]\n",
      "7249 rows in dfs[1]\n",
      "14831 rows in dfs[2]\n",
      "21397 rows in dfs[3]\n",
      "14605 rows in dfs[4]\n",
      "...\n",
      "400996 rows in dfs total\n",
      "400813 rows in df_union total\n",
      "...\n",
      "183 duplicates were removed\n"
     ]
    }
   ],
   "source": [
    "df_union = None\n",
    "for df in dfs:\n",
    "    df_union = pd.concat([df_union, df]).drop_duplicates()\n",
    "    \n",
    "# check union \n",
    "summ = 0 \n",
    "c = 0\n",
    "for df in dfs:\n",
    "    print(df.shape[0], f'rows in dfs[{c}]')\n",
    "    summ+=df.shape[0]\n",
    "    c+=1\n",
    "print('...')\n",
    "print(summ, 'rows in dfs total')\n",
    "print(df_union.shape[0], 'rows in df_union total')\n",
    "print('...')\n",
    "print(summ - df_union.shape[0], 'duplicates were removed')"
   ]
  },
  {
   "cell_type": "markdown",
   "id": "11763689",
   "metadata": {},
   "source": [
    "## Union zone_data tables"
   ]
  },
  {
   "cell_type": "code",
   "execution_count": 11,
   "id": "6e8ab843",
   "metadata": {},
   "outputs": [
    {
     "name": "stdout",
     "output_type": "stream",
     "text": [
      "21397 rows in zone_data[0]\n",
      "14605 rows in zone_data[1]\n",
      "...\n",
      "36002 rows in zone_data total\n",
      "35749 rows in zone_union total\n",
      "...\n",
      "253 duplicates were removed\n"
     ]
    }
   ],
   "source": [
    "zone_union = None\n",
    "for z in zone_data:\n",
    "    zone_union = pd.concat([zone_union, z]).drop_duplicates()\n",
    "    \n",
    "# check union \n",
    "summ = 0 \n",
    "c = 0\n",
    "for z in zone_data:\n",
    "    print(z.shape[0], f'rows in zone_data[{c}]')\n",
    "    summ+=z.shape[0]\n",
    "    c+=1\n",
    "print('...')\n",
    "print(summ, 'rows in zone_data total')\n",
    "print(zone_union.shape[0], 'rows in zone_union total')\n",
    "print('...')\n",
    "print(summ - zone_union.shape[0], 'duplicates were removed')"
   ]
  },
  {
   "cell_type": "markdown",
   "id": "6edc7db9",
   "metadata": {},
   "source": [
    "__________________________________"
   ]
  },
  {
   "cell_type": "markdown",
   "id": "f7b204a8",
   "metadata": {},
   "source": [
    "# Analysis\n",
    "The analysis will be split into two pieces.  \n",
    "The larger data frame of df_union will be in part 1 and part 2 will utilize zone_union."
   ]
  },
  {
   "cell_type": "markdown",
   "id": "6764cd7d",
   "metadata": {},
   "source": [
    "## Part 1:  df_union"
   ]
  },
  {
   "cell_type": "code",
   "execution_count": null,
   "id": "d27b16ba",
   "metadata": {},
   "outputs": [],
   "source": [
    "# 2 problems\n",
    "# 1) The dates are out of range.  Anything older than 2009 needs to be dumped. -> before the zone_data is defined\n",
    "# 2) the sorting is off"
   ]
  },
  {
   "cell_type": "markdown",
   "id": "221c9016",
   "metadata": {},
   "source": [
    "###  1a) Time-series analysis\n",
    "This is a time-series analysis of volume."
   ]
  },
  {
   "cell_type": "markdown",
   "id": "dd0dfb9a",
   "metadata": {},
   "source": [
    "# !!!!!!!!!!!!!!!!!! 2 problems\n",
    " 1) The dates are out of range.  Anything older than 2009 needs to be dumped. -> before the zone_data is defined  \n",
    " 2) the sorting is off"
   ]
  },
  {
   "cell_type": "code",
   "execution_count": 12,
   "id": "335a1423",
   "metadata": {},
   "outputs": [
    {
     "data": {
      "text/html": [
       "<div>\n",
       "<style scoped>\n",
       "    .dataframe tbody tr th:only-of-type {\n",
       "        vertical-align: middle;\n",
       "    }\n",
       "\n",
       "    .dataframe tbody tr th {\n",
       "        vertical-align: top;\n",
       "    }\n",
       "\n",
       "    .dataframe thead th {\n",
       "        text-align: right;\n",
       "    }\n",
       "</style>\n",
       "<table border=\"1\" class=\"dataframe\">\n",
       "  <thead>\n",
       "    <tr style=\"text-align: right;\">\n",
       "      <th></th>\n",
       "      <th>Report Number</th>\n",
       "      <th>Occur Date</th>\n",
       "      <th>Occur Time</th>\n",
       "      <th>Location</th>\n",
       "      <th>UCR Literal</th>\n",
       "      <th>Neighborhood</th>\n",
       "      <th>Latitude</th>\n",
       "      <th>Longitude</th>\n",
       "    </tr>\n",
       "  </thead>\n",
       "  <tbody>\n",
       "    <tr>\n",
       "      <th>0</th>\n",
       "      <td>90010930</td>\n",
       "      <td>2009-01-01</td>\n",
       "      <td>1145</td>\n",
       "      <td>2841 GREENBRIAR PKWY</td>\n",
       "      <td>LARCENY-NON VEHICLE</td>\n",
       "      <td>Greenbriar</td>\n",
       "      <td>33.688450</td>\n",
       "      <td>-84.493280</td>\n",
       "    </tr>\n",
       "    <tr>\n",
       "      <th>1</th>\n",
       "      <td>90011083</td>\n",
       "      <td>2009-01-01</td>\n",
       "      <td>1330</td>\n",
       "      <td>12 BROAD ST SW</td>\n",
       "      <td>LARCENY-NON VEHICLE</td>\n",
       "      <td>Downtown</td>\n",
       "      <td>33.753200</td>\n",
       "      <td>-84.392010</td>\n",
       "    </tr>\n",
       "    <tr>\n",
       "      <th>2</th>\n",
       "      <td>90011208</td>\n",
       "      <td>2009-01-01</td>\n",
       "      <td>1500</td>\n",
       "      <td>3500 MARTIN L KING JR DR SW</td>\n",
       "      <td>LARCENY-NON VEHICLE</td>\n",
       "      <td>Adamsville</td>\n",
       "      <td>33.757350</td>\n",
       "      <td>-84.502820</td>\n",
       "    </tr>\n",
       "    <tr>\n",
       "      <th>3</th>\n",
       "      <td>90011218</td>\n",
       "      <td>2009-01-01</td>\n",
       "      <td>1450</td>\n",
       "      <td>3393 PEACHTREE RD NE</td>\n",
       "      <td>LARCENY-NON VEHICLE</td>\n",
       "      <td>Lenox</td>\n",
       "      <td>33.846760</td>\n",
       "      <td>-84.362120</td>\n",
       "    </tr>\n",
       "    <tr>\n",
       "      <th>4</th>\n",
       "      <td>90011289</td>\n",
       "      <td>2009-01-01</td>\n",
       "      <td>1600</td>\n",
       "      <td>2841 GREENBRIAR PKWY SW</td>\n",
       "      <td>LARCENY-NON VEHICLE</td>\n",
       "      <td>Greenbriar</td>\n",
       "      <td>33.686770</td>\n",
       "      <td>-84.497730</td>\n",
       "    </tr>\n",
       "    <tr>\n",
       "      <th>...</th>\n",
       "      <td>...</td>\n",
       "      <td>...</td>\n",
       "      <td>...</td>\n",
       "      <td>...</td>\n",
       "      <td>...</td>\n",
       "      <td>...</td>\n",
       "      <td>...</td>\n",
       "      <td>...</td>\n",
       "    </tr>\n",
       "    <tr>\n",
       "      <th>14600</th>\n",
       "      <td>222440403</td>\n",
       "      <td>2022-08-31</td>\n",
       "      <td>19:00</td>\n",
       "      <td>3060 CONTINENTAL COLONY PKWY SW\\nATL, GA 30331...</td>\n",
       "      <td>AUTO THEFT</td>\n",
       "      <td>Greenbriar</td>\n",
       "      <td>33.680364</td>\n",
       "      <td>-84.493697</td>\n",
       "    </tr>\n",
       "    <tr>\n",
       "      <th>14601</th>\n",
       "      <td>222440463</td>\n",
       "      <td>2022-08-31</td>\n",
       "      <td>20:00</td>\n",
       "      <td>18 W PEACHTREE PL NW\\nATL, GA 30308\\nUNITED ST...</td>\n",
       "      <td>LARCENY-FROM VEHICLE</td>\n",
       "      <td>Downtown</td>\n",
       "      <td>33.763871</td>\n",
       "      <td>-84.387992</td>\n",
       "    </tr>\n",
       "    <tr>\n",
       "      <th>14602</th>\n",
       "      <td>222440602</td>\n",
       "      <td>2022-08-30</td>\n",
       "      <td>00:00</td>\n",
       "      <td>608 RALPH MCGILL BLVD NE\\nATL, GA 30308\\nUNITE...</td>\n",
       "      <td>LARCENY-NON VEHICLE</td>\n",
       "      <td>Old Fourth Ward</td>\n",
       "      <td>33.764066</td>\n",
       "      <td>-84.367410</td>\n",
       "    </tr>\n",
       "    <tr>\n",
       "      <th>14603</th>\n",
       "      <td>222440722</td>\n",
       "      <td>2022-08-25</td>\n",
       "      <td>23:00</td>\n",
       "      <td>360 EDGEWOOD AVE SE\\nATLANTA, GA 30312\\nUNITED...</td>\n",
       "      <td>AUTO THEFT</td>\n",
       "      <td>Sweet Auburn</td>\n",
       "      <td>33.754553</td>\n",
       "      <td>-84.376007</td>\n",
       "    </tr>\n",
       "    <tr>\n",
       "      <th>14604</th>\n",
       "      <td>951585288</td>\n",
       "      <td>1995-06-07</td>\n",
       "      <td>09:00</td>\n",
       "      <td>2909 CAMPBELLTON RD SW\\nATLANTA, GA 30311\\nUNI...</td>\n",
       "      <td>HOMICIDE</td>\n",
       "      <td>Southwest</td>\n",
       "      <td>33.700808</td>\n",
       "      <td>-84.483531</td>\n",
       "    </tr>\n",
       "  </tbody>\n",
       "</table>\n",
       "<p>400813 rows × 8 columns</p>\n",
       "</div>"
      ],
      "text/plain": [
       "       Report Number Occur Date Occur Time  \\\n",
       "0           90010930 2009-01-01       1145   \n",
       "1           90011083 2009-01-01       1330   \n",
       "2           90011208 2009-01-01       1500   \n",
       "3           90011218 2009-01-01       1450   \n",
       "4           90011289 2009-01-01       1600   \n",
       "...              ...        ...        ...   \n",
       "14600      222440403 2022-08-31      19:00   \n",
       "14601      222440463 2022-08-31      20:00   \n",
       "14602      222440602 2022-08-30      00:00   \n",
       "14603      222440722 2022-08-25      23:00   \n",
       "14604      951585288 1995-06-07      09:00   \n",
       "\n",
       "                                                Location  \\\n",
       "0                                   2841 GREENBRIAR PKWY   \n",
       "1                                         12 BROAD ST SW   \n",
       "2                            3500 MARTIN L KING JR DR SW   \n",
       "3                                   3393 PEACHTREE RD NE   \n",
       "4                                2841 GREENBRIAR PKWY SW   \n",
       "...                                                  ...   \n",
       "14600  3060 CONTINENTAL COLONY PKWY SW\\nATL, GA 30331...   \n",
       "14601  18 W PEACHTREE PL NW\\nATL, GA 30308\\nUNITED ST...   \n",
       "14602  608 RALPH MCGILL BLVD NE\\nATL, GA 30308\\nUNITE...   \n",
       "14603  360 EDGEWOOD AVE SE\\nATLANTA, GA 30312\\nUNITED...   \n",
       "14604  2909 CAMPBELLTON RD SW\\nATLANTA, GA 30311\\nUNI...   \n",
       "\n",
       "                UCR Literal     Neighborhood   Latitude  Longitude  \n",
       "0       LARCENY-NON VEHICLE       Greenbriar  33.688450 -84.493280  \n",
       "1       LARCENY-NON VEHICLE         Downtown  33.753200 -84.392010  \n",
       "2       LARCENY-NON VEHICLE       Adamsville  33.757350 -84.502820  \n",
       "3       LARCENY-NON VEHICLE            Lenox  33.846760 -84.362120  \n",
       "4       LARCENY-NON VEHICLE       Greenbriar  33.686770 -84.497730  \n",
       "...                     ...              ...        ...        ...  \n",
       "14600            AUTO THEFT       Greenbriar  33.680364 -84.493697  \n",
       "14601  LARCENY-FROM VEHICLE         Downtown  33.763871 -84.387992  \n",
       "14602   LARCENY-NON VEHICLE  Old Fourth Ward  33.764066 -84.367410  \n",
       "14603            AUTO THEFT     Sweet Auburn  33.754553 -84.376007  \n",
       "14604              HOMICIDE        Southwest  33.700808 -84.483531  \n",
       "\n",
       "[400813 rows x 8 columns]"
      ]
     },
     "execution_count": 12,
     "metadata": {},
     "output_type": "execute_result"
    }
   ],
   "source": [
    "# Reset Occur date back to date type\n",
    "# df_union.head()\n",
    "df_union['Occur Date'] = pd.to_datetime(df_union['Occur Date'], errors = 'coerce')\n",
    "# df_union.head().info()\n",
    "df_union.sort_values(by='Occur Date', ascending=True)\n",
    "df_union\n",
    "\n",
    "\n",
    "\n",
    "\n",
    "# 2 problems\n",
    "# 1) The dates are out of range.  Anything older than 2009 needs to be dumped. -> before the zone_data is defined\n",
    "# 2) the sorting is off"
   ]
  },
  {
   "cell_type": "markdown",
   "id": "6d72ca71",
   "metadata": {},
   "source": [
    "### 1b) ??? heat map of x=date and y=time"
   ]
  },
  {
   "cell_type": "markdown",
   "id": "fff1bbc1",
   "metadata": {},
   "source": [
    "### 1c) ???"
   ]
  },
  {
   "cell_type": "markdown",
   "id": "cca04b0d",
   "metadata": {},
   "source": [
    "### 1d) ???"
   ]
  },
  {
   "cell_type": "markdown",
   "id": "00d6bc2b",
   "metadata": {},
   "source": [
    "## Part 2: zone_union\n",
    "Part 2 uses the zone_union table to create a choropleth map to signify volume within specific locations of Atlanta. "
   ]
  },
  {
   "cell_type": "markdown",
   "id": "1fcae39c",
   "metadata": {},
   "source": [
    "# repeat date issue!!!!!!!!!!!!!!!!!!\n",
    "\n",
    "\n",
    " 2 problems\n",
    " 1) The dates are out of range.  Anything older than 2009 needs to be dumped. -> before the zone_data is defined  \n",
    " 2) the sorting is off"
   ]
  }
 ],
 "metadata": {
  "kernelspec": {
   "display_name": "Python 3 (ipykernel)",
   "language": "python",
   "name": "python3"
  },
  "language_info": {
   "codemirror_mode": {
    "name": "ipython",
    "version": 3
   },
   "file_extension": ".py",
   "mimetype": "text/x-python",
   "name": "python",
   "nbconvert_exporter": "python",
   "pygments_lexer": "ipython3",
   "version": "3.9.7"
  }
 },
 "nbformat": 4,
 "nbformat_minor": 5
}
